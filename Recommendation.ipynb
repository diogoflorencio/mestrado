{
 "cells": [
  {
   "cell_type": "markdown",
   "metadata": {},
   "source": [
    "# Recomendação de notícias por WMD e análise de viés por subjetividade\n",
    "\n",
    "Os dados utilizados nesta análise compreendem as notícias dos jornais `Carta Capital`, `O Antagonista`, `O Globo` e `Veja`, durante todo o ano de 2018. Uma análise detalhada dos dados está disponível [aqui](https://pages.github.com/).\n",
    "\n",
    "Objetivo deste notebook é implementar um sistema de recomendação de notícias por meio de `WMD`, de modo que seja consi\n",
    "\n",
    "### Similaridade por Word movers distance"
   ]
  },
  {
   "cell_type": "code",
   "execution_count": 1,
   "metadata": {},
   "outputs": [
    {
     "name": "stderr",
     "output_type": "stream",
     "text": [
      "[nltk_data] Downloading package stopwords to /home/diogo/nltk_data...\n",
      "[nltk_data]   Package stopwords is already up-to-date!\n"
     ]
    }
   ],
   "source": [
    "# importing modules and setting log format\n",
    "import os\n",
    "import re\n",
    "import nltk\n",
    "import gensim, logging\n",
    "import pandas as pd\n",
    "\n",
    "from nltk.corpus import stopwords\n",
    "from gensim.similarities import WmdSimilarity\n",
    "\n",
    "nltk.download('stopwords')\n",
    "# logging.basicConfig(format='%(asctime)s : %(levelname)s : %(message)s', level=logging.INFO)\n",
    "PUNCTUATION = u'[^a-zA-Z0-9áéíóúÁÉÍÓÚâêîôÂÊÎÔãõÃÕçÇ%]' # define news punctuation "
   ]
  },
  {
   "cell_type": "code",
   "execution_count": 2,
   "metadata": {},
   "outputs": [],
   "source": [
    "# load data\n",
    "carta_capital = pd.read_csv(\"data_2018/carta_capital.csv\") \n",
    "oantagonista = pd.read_csv(\"data_2018/oantagonista.csv\") \n",
    "oglobo = pd.read_csv(\"data_2018/oglobo.csv\") \n",
    "veja = pd.read_csv(\"data_2018/veja.csv\") \n",
    "# concat all news\n",
    "news = pd.concat((carta_capital, oantagonista, oglobo, veja), sort=False, ignore_index=True)"
   ]
  },
  {
   "cell_type": "code",
   "execution_count": 3,
   "metadata": {},
   "outputs": [],
   "source": [
    "# function for processing sentences\n",
    "def processSentences(text):\n",
    "    stop_words = stopwords.words('portuguese') # load stop words\n",
    "    text = re.sub(PUNCTUATION, ' ', str(text)) # remove punctuation from text\n",
    "    text = str(text).lower().split() # split sentences by words\n",
    "    text = [word for word in text if word not in stop_words] # Remove stopwords\n",
    "    return text"
   ]
  },
  {
   "cell_type": "code",
   "execution_count": 4,
   "metadata": {},
   "outputs": [],
   "source": [
    "# processing news sentences\n",
    "news['text'] = news['text'].apply(processSentences)"
   ]
  },
  {
   "cell_type": "code",
   "execution_count": 5,
   "metadata": {},
   "outputs": [],
   "source": [
    "model = gensim.models.Word2Vec.load('model/news-w2v.bin')"
   ]
  },
  {
   "cell_type": "code",
   "execution_count": null,
   "metadata": {},
   "outputs": [],
   "source": [
    "model.wv.save_word2vec_format(\"model/news_vectors.bin\")"
   ]
  },
  {
   "cell_type": "markdown",
   "metadata": {},
   "source": [
    "### Query"
   ]
  },
  {
   "cell_type": "code",
   "execution_count": 6,
   "metadata": {},
   "outputs": [],
   "source": [
    "# function for select news by date\n",
    "def news_by_date(date):\n",
    "    date_range = 3600 # 1 hour\n",
    "    # select news by date range\n",
    "    news_by_date = news.loc[(news['date'] >= (date - date_range)) & (news['date'] <= (date + date_range))]\n",
    "    news_by_date = news_by_date.reset_index() # reset dataframe indexes\n",
    "    return news_by_date"
   ]
  },
  {
   "cell_type": "code",
   "execution_count": 7,
   "metadata": {},
   "outputs": [],
   "source": [
    "article = 'https://www.oantagonista.com/brasil/103078/' # url of the article to be compared\n",
    "article = news.loc[news['url'] == article] # get article by url\n",
    "\n",
    "news_date_range = news_by_date(float(article['date']))\n",
    "instance = WmdSimilarity(news_date_range['text'], model, num_best=5)"
   ]
  },
  {
   "cell_type": "code",
   "execution_count": 9,
   "metadata": {
    "scrolled": false
   },
   "outputs": [
    {
     "name": "stdout",
     "output_type": "stream",
     "text": [
      "Article:\n",
      "https://www.oantagonista.com/brasil/103078/\n",
      "\n",
      "\n",
      "sim = 1.0000\n",
      "https://www.oantagonista.com/brasil/103078/\n",
      "\n",
      "\n",
      "sim = 0.4823\n",
      "https://www.oantagonista.com/brasil/greve-de-fome-nao-e-dele/\n",
      "\n",
      "\n",
      "sim = 0.4760\n",
      "https://www.oantagonista.com/brasil/farsa-das-greves-de-fome-de-lula/\n",
      "\n",
      "\n",
      "sim = 0.4758\n",
      "https://www.oantagonista.com/brasil/gilmar-exposto/\n",
      "\n",
      "\n",
      "sim = 0.4752\n",
      "https://www.oantagonista.com/brasil/gosto-alckmin-mas-nao-vou-votar-nele-para-presidente/\n"
     ]
    }
   ],
   "source": [
    "sims = instance[article['text'].tolist()[0]]\n",
    "print('Article:')\n",
    "print(article['url'].tolist()[0])\n",
    "for i in range(5):\n",
    "    print('\\n')\n",
    "    print('sim = %.4f' % sims[i][1])\n",
    "    print(news_date_range['url'][sims[i][0]])\n"
   ]
  },
  {
   "cell_type": "code",
   "execution_count": 10,
   "metadata": {},
   "outputs": [
    {
     "data": {
      "text/plain": [
       "9"
      ]
     },
     "execution_count": 10,
     "metadata": {},
     "output_type": "execute_result"
    }
   ],
   "source": []
  },
  {
   "cell_type": "markdown",
   "metadata": {},
   "source": [
    "### Análise de Subjetividade"
   ]
  }
 ],
 "metadata": {
  "kernelspec": {
   "display_name": "Python 3",
   "language": "python",
   "name": "python3"
  },
  "language_info": {
   "codemirror_mode": {
    "name": "ipython",
    "version": 3
   },
   "file_extension": ".py",
   "mimetype": "text/x-python",
   "name": "python",
   "nbconvert_exporter": "python",
   "pygments_lexer": "ipython3",
   "version": "3.7.1"
  }
 },
 "nbformat": 4,
 "nbformat_minor": 2
}
