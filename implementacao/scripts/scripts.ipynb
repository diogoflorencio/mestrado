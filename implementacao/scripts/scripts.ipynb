{
 "cells": [
  {
   "cell_type": "code",
   "execution_count": 1,
   "metadata": {},
   "outputs": [],
   "source": [
    "from pymongo import MongoClient\n",
    "import pandas as pd\n",
    "import numpy as np"
   ]
  },
  {
   "cell_type": "markdown",
   "metadata": {},
   "source": [
    "### Update news veja"
   ]
  },
  {
   "cell_type": "code",
   "execution_count": 6,
   "metadata": {},
   "outputs": [],
   "source": [
    "# iniciando cliente mongo\n",
    "client = MongoClient('192.168.1.2', 27017)\n",
    "\n",
    "# selecionando db\n",
    "veja = client['news_veja']\n",
    "news = client['news']\n",
    "\n",
    "# selecionando coleções\n",
    "veja_comments = veja['vejaComments']"
   ]
  },
  {
   "cell_type": "code",
   "execution_count": 4,
   "metadata": {},
   "outputs": [
    {
     "name": "stderr",
     "output_type": "stream",
     "text": [
      "/home/diogo/anaconda3/lib/python3.7/site-packages/ipykernel_launcher.py:4: DeprecationWarning: insert is deprecated. Use insert_one or insert_many instead.\n",
      "  after removing the cwd from sys.path.\n"
     ]
    },
    {
     "name": "stdout",
     "output_type": "stream",
     "text": [
      "article duplicate https://veja.abril.com.br/blog/radar/saida-milionaria/s-4/tinua-no-ar-8230/os-reis/z-no-sobrenome-2/-afirma-jornal/r-uma-bolsa-ditadura/a-no-campo-e-nas-cidades-esta-no-texto-basta-ler/bou-no-hospital-portugues-que-e-privado-e-um-dos-melhor///1//sem-a/\r"
     ]
    }
   ],
   "source": [
    "# updating articles\n",
    "for article in veja.find():\n",
    "    try:\n",
    "        news['veja'].insert(article)\n",
    "    except:\n",
    "        print(\"article duplicate \" + article['_id'], end='\\r')"
   ]
  },
  {
   "cell_type": "code",
   "execution_count": 7,
   "metadata": {},
   "outputs": [],
   "source": [
    "# updating comments articles\n",
    "for comment in veja_comments.find():\n",
    "    try:\n",
    "        news['vejaComments'].insert_one(comment)\n",
    "    except:\n",
    "        print(\"comment duplicate \" + comment['_id'], end='\\r')"
   ]
  },
  {
   "cell_type": "markdown",
   "metadata": {},
   "source": [
    "### Compute text size and number of comments"
   ]
  },
  {
   "cell_type": "code",
   "execution_count": null,
   "metadata": {},
   "outputs": [],
   "source": [
    "def text_size(text):\n",
    "    return len(text.split())"
   ]
  },
  {
   "cell_type": "code",
   "execution_count": null,
   "metadata": {},
   "outputs": [],
   "source": [
    "def number_comments(url, comments_collection):\n",
    "    return news[comments_collection].find({\"id_article\" : url}).count()"
   ]
  },
  {
   "cell_type": "code",
   "execution_count": null,
   "metadata": {},
   "outputs": [],
   "source": [
    "from pymongo import MongoClient\n",
    "\n",
    "client = MongoClient('localhost', 27017)\n",
    "\n",
    "news_2018 = client['news_2018']\n",
    "news = client['news']\n",
    "\n",
    "index = 0\n",
    "\n",
    "total = news_2018['veja'].count_documents({})\n",
    "\n",
    "for article in news_2018['veja'].find():\n",
    "    # compute title size\n",
    "    title_size = len(str(article['title']).split()) \n",
    "    \n",
    "    # compute text size\n",
    "    text_size = len(str(article['text']).split())\n",
    "    \n",
    "    # compute number of comments\n",
    "    number_comments = news['vejaComments'].count_documents({\"id_article\" : article['url']}) \n",
    "    \n",
    "    # comments\n",
    "    for comment in news['vejaComments'].find({\"id_article\" : article['url']}):        \n",
    "        # insert comments in news_2018\n",
    "        news_2018['vejaComments'].insert_one(comment)\n",
    "    \n",
    "    # insert metadata \n",
    "    news_2018['MetaData'].insert_one({\n",
    "        'article_url' : article['url'],\n",
    "        'text_size' : text_size,\n",
    "        'number_comments' : number_comments\n",
    "    })\n",
    "    index += 1\n",
    "    print('Progress: {0:.4f} %'.format(index / total * 100), end='\\r')"
   ]
  }
 ],
 "metadata": {
  "kernelspec": {
   "display_name": "Python 3",
   "language": "python",
   "name": "python3"
  },
  "language_info": {
   "codemirror_mode": {
    "name": "ipython",
    "version": 3
   },
   "file_extension": ".py",
   "mimetype": "text/x-python",
   "name": "python",
   "nbconvert_exporter": "python",
   "pygments_lexer": "ipython3",
   "version": "3.7.3"
  }
 },
 "nbformat": 4,
 "nbformat_minor": 2
}
