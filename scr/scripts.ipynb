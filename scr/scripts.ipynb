{
 "cells": [
  {
   "cell_type": "markdown",
   "metadata": {},
   "source": [
    "### Collection into pandas df"
   ]
  },
  {
   "cell_type": "code",
   "execution_count": null,
   "metadata": {},
   "outputs": [],
   "source": [
    "from pymongo import MongoClient\n",
    "import pandas as pd\n",
    "import numpy as np\n",
    "host_ip = '192.168.1.8'\n",
    "#iniciando cliente mongo\n",
    "client = MongoClient(host_ip, 27017)\n",
    "#selecionando db\n",
    "db = client['news_2018']\n",
    "#selecionando coleções\n",
    "oantagonista = db.get_collection('oantagonista')\n",
    "# collection into pandas df\n",
    "oantagonista = pd.DataFrame(list(oantagonista.find()))"
   ]
  },
  {
   "cell_type": "markdown",
   "metadata": {},
   "source": [
    "### Updating news in collection"
   ]
  },
  {
   "cell_type": "code",
   "execution_count": null,
   "metadata": {},
   "outputs": [],
   "source": [
    "for index, row in carta.iterrows():\n",
    "    db['veja'].update_one({'_id' : row['_id']}, \n",
    "                         {'$set' : {'section' :row['section'],\n",
    "                                    'arg' :row['arg'],\n",
    "                                    'sen' :row['sen'],\n",
    "                                    'val' :row['val'],\n",
    "                                    'mod' :row['mod'],\n",
    "                                    'pre' :row['pre']\n",
    "                                   }\n",
    "                         })"
   ]
  },
  {
   "cell_type": "markdown",
   "metadata": {},
   "source": [
    "### Update news veja"
   ]
  },
  {
   "cell_type": "code",
   "execution_count": null,
   "metadata": {},
   "outputs": [],
   "source": [
    "from pymongo import MongoClient\n",
    "import pandas as pd\n",
    "import numpy as np\n",
    "\n",
    "# iniciando cliente mongo\n",
    "client = MongoClient('localhost', 27017)\n",
    "# selecionando db\n",
    "veja_db = client['veja']\n",
    "news = client['news']\n",
    "# selecionando coleções\n",
    "veja_articles = veja_db['veja']\n",
    "veja_comments = veja_db['vejaComments']\n",
    "# updating articles\n",
    "for article in veja_articles.find():\n",
    "    try:\n",
    "        news['veja'].insert_one(article)\n",
    "    except:\n",
    "        print(\"article duplicate \" + article['_id'], end='\\r')\n",
    "# updating comments articles\n",
    "for comment in veja_comments.find():\n",
    "    try:\n",
    "        news['vejaComments'].insert_one(comment)\n",
    "    except:\n",
    "        print(\"comment duplicate \" + comment['_id'], end='\\r')"
   ]
  },
  {
   "cell_type": "markdown",
   "metadata": {},
   "source": [
    "### Collection MetaData - compute ext size and number of comments"
   ]
  },
  {
   "cell_type": "code",
   "execution_count": null,
   "metadata": {},
   "outputs": [],
   "source": [
    "from pymongo import MongoClient\n",
    "import datetime\n",
    "import time\n",
    "import math\n",
    "\n",
    "client = MongoClient('localhost', 27017)\n",
    "news_2018 = client['news_2018']\n",
    "news = client['news']\n",
    "\n",
    "index = 0\n",
    "total = news['veja'].count()\n",
    "\n",
    "for article in news['veja'].find(no_cursor_timeout=True).batch_size(5):\n",
    "    if not math.isnan(float(article['date'])):\n",
    "        if float(datetime.datetime.fromtimestamp(int(article['date'])).strftime('%Y')) == 2018:\n",
    "\n",
    "            # compute title size\n",
    "            title_size = len(str(article['title']).split())\n",
    "            # compute text size\n",
    "            text_size = len(str(article['text']).split())\n",
    "            # compute number of comments\n",
    "            number_comments = news['vejaComments'].find({\"id_article\" : article['url']}).count()\n",
    "\n",
    "            # insert article in news_2018\n",
    "            news_2018['veja'].insert_one(article)\n",
    "\n",
    "             # insert comments in news_2018\n",
    "            for comment in news['vejaComments'].find({\"id_article\" : article['url']}, no_cursor_timeout=True).batch_size(5):\n",
    "                news_2018['vejaComments'].insert_one(comment)\n",
    "\n",
    "            # insert metadata\n",
    "            news_2018['vejaMetaData'].insert_one({\n",
    "                'article_url' : article['url'],\n",
    "                'text_size' : text_size,\n",
    "                'number_comments' : number_comments\n",
    "            })\n",
    "    \n",
    "    # status\n",
    "    index += 1\n",
    "    print('progress {0:.4f} %'.format(index / total * 100), end='\\r')"
   ]
  },
  {
   "cell_type": "markdown",
   "metadata": {},
   "source": [
    "### Clean News - filter news 2010/2018"
   ]
  },
  {
   "cell_type": "code",
   "execution_count": null,
   "metadata": {},
   "outputs": [],
   "source": [
    "from pymongo import MongoClient\n",
    "import datetime\n",
    "\n",
    "client = MongoClient('localhost', 27017)\n",
    "db = client.news\n",
    "collections = ['carta_capital', 'estadao', 'folha', 'g1', 'oantagonista', 'oglobo', 'veja']\n",
    "\n",
    "for collection in collections:\n",
    "    print('\\n' + collection + '\\n')\n",
    "\n",
    "    for article in db[collection].find():\n",
    "        try:\n",
    "            #process Article\n",
    "            if float(datetime.datetime.fromtimestamp(int(article['date'])).strftime('%Y')) < 2010:\n",
    "                print('delete article' + str(datetime.datetime.fromtimestamp(int(article['date']))))\n",
    "                db[collection].delete_one({'_id':article['_id']})\n",
    "\n",
    "            elif float(datetime.datetime.fromtimestamp(int(article['date'])).strftime('%Y')) > 2018:\n",
    "                print('delete article' + str(datetime.datetime.fromtimestamp(int(article['date']))))\n",
    "                db[collection].delete_one({'_id':article['_id']})\n",
    "        except:\n",
    "            print('delete article except')\n",
    "            db[collection].delete_one({'_id':article['_id']})\n"
   ]
  },
  {
   "cell_type": "markdown",
   "metadata": {},
   "source": [
    "### Clean Comments - filter news 2010/2018"
   ]
  },
  {
   "cell_type": "code",
   "execution_count": null,
   "metadata": {},
   "outputs": [],
   "source": [
    "from pymongo import MongoClient\n",
    "import datetime\n",
    "\n",
    "client = MongoClient('localhost', 27017)\n",
    "db = client.news\n",
    "collections = ['carta_capital', 'estadao', 'folha', 'g1', 'oantagonista', 'oglobo', 'veja']\n",
    "\n",
    "for collection in collections:\n",
    "    print('\\n' + collection + '\\n')\n",
    "\n",
    "    for article in db[collection].find():\n",
    "        try:\n",
    "            #process Article\n",
    "            if float(datetime.datetime.fromtimestamp(int(article['date'])).strftime('%Y')) < 2010:\n",
    "                print('delete article' + str(datetime.datetime.fromtimestamp(int(article['date']))))\n",
    "                db[collection].delete_one({'_id':article['_id']})\n",
    "\n",
    "            elif float(datetime.datetime.fromtimestamp(int(article['date'])).strftime('%Y')) > 2018:\n",
    "                print('delete article' + str(datetime.datetime.fromtimestamp(int(article['date']))))\n",
    "                db[collection].delete_one({'_id':article['_id']})\n",
    "        except:\n",
    "            print('delete article except')\n",
    "            db[collection].delete_one({'_id':article['_id']})\n"
   ]
  },
  {
   "cell_type": "markdown",
   "metadata": {},
   "source": [
    "### Selec News - selecting news 2018"
   ]
  },
  {
   "cell_type": "code",
   "execution_count": null,
   "metadata": {},
   "outputs": [],
   "source": [
    "from pymongo import MongoClient\n",
    "import datetime\n",
    "import time\n",
    "import re\n",
    "\n",
    "client = MongoClient('localhost', 27017)\n",
    "\n",
    "news = client.news\n",
    "news_2018 = client.news_2018\n",
    "collections = ['carta_capital', 'estadao', 'folha', 'g1', 'oantagonista', 'oglobo', 'veja']\n",
    "PONTUACAO = u'[^a-zA-Z0-9áéíóúÁÉÍÓÚâêîôÂÊÎÔãõÃÕçÇ%.]'\n",
    "\n",
    "for collection in collections:\n",
    "\n",
    "\tprint('\\n' + collection + '\\n')\n",
    "\n",
    "\tfor article in news[collection].find():\n",
    "\t\tif float(datetime.datetime.fromtimestamp(int(article['date'])).strftime('%Y')) == 2018:\n",
    "\t\t\ttry:\n",
    "\t\t\t\tarticle['section'] = re.sub(PONTUACAO, ' ', str(article['section'])).lower()\n",
    "\t\t\t\tarticle['text'] = re.sub(PONTUACAO, ' ', str(article['text'])).lower()\n",
    "\t\t\n",
    "\t\t\t\tnews_2018[collection].insert_one(article)\n",
    "\t\t\texcept:\n",
    "\t\t\t\tprint(\"Error\")\n"
   ]
  }
 ],
 "metadata": {
  "kernelspec": {
   "display_name": "Python 3",
   "language": "python",
   "name": "python3"
  },
  "language_info": {
   "codemirror_mode": {
    "name": "ipython",
    "version": 3
   },
   "file_extension": ".py",
   "mimetype": "text/x-python",
   "name": "python",
   "nbconvert_exporter": "python",
   "pygments_lexer": "ipython3",
   "version": "3.7.3"
  }
 },
 "nbformat": 4,
 "nbformat_minor": 2
}
