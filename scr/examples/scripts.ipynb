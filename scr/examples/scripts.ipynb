{
 "cells": [
  {
   "cell_type": "markdown",
   "metadata": {},
   "source": [
    "### Collection into pandas df"
   ]
  },
  {
   "cell_type": "code",
   "execution_count": null,
   "metadata": {},
   "outputs": [],
   "source": [
    "from pymongo import MongoClient\n",
    "import pandas as pd\n",
    "import numpy as np\n",
    "host_ip = '192.168.1.8'\n",
    "#iniciando cliente mongo\n",
    "client = MongoClient(host_ip, 27017)\n",
    "#selecionando db\n",
    "db = client['news_2018']\n",
    "#selecionando coleções\n",
    "oantagonista = db.get_collection('oantagonista')\n",
    "# collection into pandas df\n",
    "oantagonista = pd.DataFrame(list(oantagonista.find()))"
   ]
  },
  {
   "cell_type": "markdown",
   "metadata": {},
   "source": [
    "### Updating news in collection"
   ]
  },
  {
   "cell_type": "code",
   "execution_count": null,
   "metadata": {},
   "outputs": [],
   "source": [
    "for index, row in carta.iterrows():\n",
    "    db['veja'].update_one({'_id' : row['_id']}, \n",
    "                         {'$set' : {'section' :row['section'],\n",
    "                                    'arg' :row['arg'],\n",
    "                                    'sen' :row['sen'],\n",
    "                                    'val' :row['val'],\n",
    "                                    'mod' :row['mod'],\n",
    "                                    'pre' :row['pre']\n",
    "                                   }\n",
    "                         })"
   ]
  },
  {
   "cell_type": "markdown",
   "metadata": {},
   "source": [
    "### Update news veja"
   ]
  },
  {
   "cell_type": "code",
   "execution_count": null,
   "metadata": {},
   "outputs": [],
   "source": [
    "from pymongo import MongoClient\n",
    "import pandas as pd\n",
    "import numpy as np\n",
    "\n",
    "# iniciando cliente mongo\n",
    "client = MongoClient('localhost', 27017)\n",
    "# selecionando db\n",
    "veja_db = client['veja']\n",
    "news = client['news']\n",
    "# selecionando coleções\n",
    "veja_articles = veja_db['veja']\n",
    "veja_comments = veja_db['vejaComments']\n",
    "# updating articles\n",
    "for article in veja_articles.find():\n",
    "    try:\n",
    "        news['veja'].insert_one(article)\n",
    "    except:\n",
    "        print(\"article duplicate \" + article['_id'], end='\\r')\n",
    "# updating comments articles\n",
    "for comment in veja_comments.find():\n",
    "    try:\n",
    "        news['vejaComments'].insert_one(comment)\n",
    "    except:\n",
    "        print(\"comment duplicate \" + comment['_id'], end='\\r')"
   ]
  },
  {
   "cell_type": "markdown",
   "metadata": {},
   "source": [
    "### Collection MetaData - compute ext size and number of comments"
   ]
  },
  {
   "cell_type": "code",
   "execution_count": null,
   "metadata": {},
   "outputs": [],
   "source": [
    "from pymongo import MongoClient\n",
    "import datetime\n",
    "import time\n",
    "import math\n",
    "\n",
    "IP_HOST = 'localhost'\n",
    "\n",
    "client = MongoClient(IP_HOST, 27017)\n",
    "news_2018 = client['news_2018']\n",
    "news = client['news']\n",
    "\n",
    "index = 0\n",
    "total = news['oglobo'].count()\n",
    "\n",
    "for article in news['oglobo'].find(no_cursor_timeout=True).batch_size(5):\n",
    "    if not math.isnan(float(article['date'])):\n",
    "        if float(datetime.datetime.fromtimestamp(int(article['date'])).strftime('%Y')) == 2018:\n",
    "\n",
    "            # compute title size\n",
    "            title_size = len(str(article['title']).split())\n",
    "            # compute text size\n",
    "            text_size = len(str(article['text']).split())\n",
    "            # compute number of comments\n",
    "            number_comments = news['ogloboComments'].find({\"id_article\" : article['_id']}).count()\n",
    "\n",
    "            # insert article in news_2018\n",
    "            news_2018['oglobo'].insert_one(article)\n",
    "\n",
    "             # insert comments in news_2018\n",
    "            for comment in news['ogloboComments'].find({\"id_article\" : article['_id']}, no_cursor_timeout=True).batch_size(5):\n",
    "                news_2018['ogloboComments'].insert_one(comment)\n",
    "\n",
    "            # insert metadata\n",
    "            news_2018['metaData'].insert_one({\n",
    "                'url' : article['url'],\n",
    "                'text_size' : text_size,\n",
    "                'number_comments' : number_comments\n",
    "            })\n",
    "    \n",
    "    # status\n",
    "    index += 1\n",
    "    print('progress {0:.4f} %'.format(index / total * 100), end='\\r')\n"
   ]
  },
  {
   "cell_type": "markdown",
   "metadata": {},
   "source": [
    "### Clean News - filter news 2010/2018"
   ]
  },
  {
   "cell_type": "code",
   "execution_count": null,
   "metadata": {},
   "outputs": [],
   "source": [
    "from pymongo import MongoClient\n",
    "import datetime\n",
    "\n",
    "client = MongoClient('localhost', 27017)\n",
    "db = client.news\n",
    "collections = ['carta_capital', 'estadao', 'folha', 'g1', 'oantagonista', 'oglobo', 'veja']\n",
    "\n",
    "for collection in collections:\n",
    "    print('\\n' + collection + '\\n')\n",
    "\n",
    "    for article in db[collection].find():\n",
    "        try:\n",
    "            #process Article\n",
    "            if float(datetime.datetime.fromtimestamp(int(article['date'])).strftime('%Y')) < 2010:\n",
    "                print('delete article' + str(datetime.datetime.fromtimestamp(int(article['date']))))\n",
    "                db[collection].delete_one({'_id':article['_id']})\n",
    "\n",
    "            elif float(datetime.datetime.fromtimestamp(int(article['date'])).strftime('%Y')) > 2018:\n",
    "                print('delete article' + str(datetime.datetime.fromtimestamp(int(article['date']))))\n",
    "                db[collection].delete_one({'_id':article['_id']})\n",
    "        except:\n",
    "            print('delete article except')\n",
    "            db[collection].delete_one({'_id':article['_id']})\n"
   ]
  },
  {
   "cell_type": "markdown",
   "metadata": {},
   "source": [
    "### Clean Comments - filter news 2010/2018"
   ]
  },
  {
   "cell_type": "code",
   "execution_count": null,
   "metadata": {},
   "outputs": [],
   "source": [
    "from pymongo import MongoClient\n",
    "import datetime\n",
    "\n",
    "client = MongoClient('localhost', 27017)\n",
    "db = client.news\n",
    "collections = ['carta_capital', 'estadao', 'folha', 'g1', 'oantagonista', 'oglobo', 'veja']\n",
    "\n",
    "for collection in collections:\n",
    "    print('\\n' + collection + '\\n')\n",
    "\n",
    "    for article in db[collection].find():\n",
    "        try:\n",
    "            #process Article\n",
    "            if float(datetime.datetime.fromtimestamp(int(article['date'])).strftime('%Y')) < 2010:\n",
    "                print('delete article' + str(datetime.datetime.fromtimestamp(int(article['date']))))\n",
    "                db[collection].delete_one({'_id':article['_id']})\n",
    "\n",
    "            elif float(datetime.datetime.fromtimestamp(int(article['date'])).strftime('%Y')) > 2018:\n",
    "                print('delete article' + str(datetime.datetime.fromtimestamp(int(article['date']))))\n",
    "                db[collection].delete_one({'_id':article['_id']})\n",
    "        except:\n",
    "            print('delete article except')\n",
    "            db[collection].delete_one({'_id':article['_id']})\n"
   ]
  },
  {
   "cell_type": "markdown",
   "metadata": {},
   "source": [
    "### Selec News - selecting news 2018"
   ]
  },
  {
   "cell_type": "code",
   "execution_count": null,
   "metadata": {},
   "outputs": [],
   "source": [
    "from pymongo import MongoClient\n",
    "import datetime\n",
    "import time\n",
    "import re\n",
    "\n",
    "client = MongoClient('localhost', 27017)\n",
    "news = client.news_2018\n",
    "news_2018 = client.news_2018\n",
    "collections = ['oglobo']\n",
    "PUNCTUATION = u'[^a-zA-Z0-9áéíóúÁÉÍÓÚâêîôÂÊÎÔãõÃÕçÇ%]' # define punctuation \n",
    "\n",
    "def processSection(section):\n",
    "    if 'pol' in section or 'poder' in section:\n",
    "        return 'politica'\n",
    "    elif 'opini' in section or 'felipe' in section or 'colunas' in section or 'renan' in section or 'mario' in section or 'claudio' in section:\n",
    "        return 'opiniao'\n",
    "    elif 'esport' in section or 'copa' in section:\n",
    "        return 'esporte'\n",
    "    elif 'mundo' in section or 'intern' in section:\n",
    "        return 'internacional'\n",
    "    elif 'econ' in section or 'merca' in section:\n",
    "        return 'economia'\n",
    "    elif 'ci' in section or 'tec' in section:\n",
    "        return 'tecnologia'\n",
    "    elif 'edu' in section or 'merca' in section:\n",
    "        return 'educacao'\n",
    "    else:\n",
    "        return 'diversos'\n",
    "\n",
    "for collection in collections:\n",
    "    # print collection\n",
    "    print('\\n' + collection + '\\n')\n",
    "    # process collection\n",
    "    for article in news[collection].find():\n",
    "        if float(datetime.datetime.fromtimestamp(int(article['date'])).strftime('%Y')) == 2018:\n",
    "            try:\n",
    "                #article['section'] = re.sub(PUNCTUATION, ' ', str(article['section'])).lower()\n",
    "                #article['section'] = processSection(article['section'])\n",
    "                #article['text'] = re.sub(PUNCTUATION, ' ', str(article['text'])).lower()\n",
    "                #article['title'] = re.sub(PUNCTUATION, ' ', str(article['title'])).lower()\n",
    "                # insert in news 2018\n",
    "                news_2018[collection].insert_one(article)\n",
    "            except:\n",
    "                print(\"Error\")\n",
    "        print(float(datetime.datetime.fromtimestamp(int(article['date'])).strftime('%Y')))"
   ]
  },
  {
   "cell_type": "markdown",
   "metadata": {},
   "source": [
    "### News Readability"
   ]
  },
  {
   "cell_type": "code",
   "execution_count": null,
   "metadata": {},
   "outputs": [],
   "source": [
    "from readcalc import readcalc\n",
    "from pymongo import MongoClient\n",
    "import nltk\n",
    "nltk.download('punkt')\n",
    "client = MongoClient('localhost', 27017)\n",
    "news = client.news_2018\n",
    "collections = ['carta_capital', 'el_pais', 'estadao', 'folha', 'gazeta_do_povo', 'oantagonista', 'oglobo', 'veja']\n",
    "\n",
    "for collection in collections:\n",
    "    for article in news[collection].find(no_cursor_timeout=True).batch_size(5):\n",
    "        text_readability = readcalc.ReadCalc(str(article['text']))\n",
    "        news['readabilityMetrics'].insert_one({\n",
    "                'url': article['url'],\n",
    "                'words':len(text_readability.get_words()),\n",
    "                'unique_words':text_readability.get_internal_metrics()[2],\n",
    "                'sentences':len(text_readability.get_sentences()),\n",
    "                'syllables':text_readability.get_internal_metrics()[4],\n",
    "                '3_syllables_or_more':text_readability.get_internal_metrics()[5],\n",
    "                'coleman_liau_index': text_readability.get_coleman_liau_index(),\n",
    "                'smog_index':text_readability.get_smog_index(),\n",
    "                'lix_index':text_readability.get_lix_index(),\n",
    "                'dale_chall_score':text_readability.get_dale_chall_score(),\n",
    "                'dale_chall_known_fraction':text_readability.get_dale_chall_known_fraction()\n",
    "            }) "
   ]
  },
  {
   "cell_type": "markdown",
   "metadata": {},
   "source": [
    "### Load data on Neo4j"
   ]
  },
  {
   "cell_type": "code",
   "execution_count": null,
   "metadata": {},
   "outputs": [],
   "source": [
    "from pymongo import MongoClient\n",
    "import pandas as pd\n",
    "import numpy as np\n",
    "from py2neo import Graph, Node, Relationship\n",
    "from IPython.display import clear_output\n",
    "\n",
    "host_ip = '192.168.1.7'\n",
    "#iniciando cliente mongo\n",
    "client = MongoClient(host_ip, 27017)\n",
    "#selecionando db\n",
    "db = client['news_2018']\n",
    "#selecionando coleções\n",
    "oglobo = db.get_collection('oglobo')\n",
    "# collection into pandas df\n",
    "news = pd.DataFrame(list(oglobo.find()))\n",
    "ogloboComments = db.get_collection('ogloboComments')\n",
    "# collection into pandas df\n",
    "comments = pd.DataFrame(list(ogloboComments.find()))"
   ]
  },
  {
   "cell_type": "code",
   "execution_count": null,
   "metadata": {},
   "outputs": [],
   "source": [
    "#Conect to sandbox\n",
    "neo4j_sandbox = Graph(\"bolt://localhost:7687\", auth=(\"neo4j\", \"admin\"))\n",
    "#Open transaction\n",
    "graph = neo4j_sandbox.begin()"
   ]
  },
  {
   "cell_type": "markdown",
   "metadata": {},
   "source": [
    "#### Nodes"
   ]
  },
  {
   "cell_type": "code",
   "execution_count": null,
   "metadata": {},
   "outputs": [],
   "source": [
    "# insert news node\n",
    "for index, row in news.iterrows():\n",
    "    node = Node(\"News\",\n",
    "                section = row[\"section\"],\n",
    "                sub_title = row[\"sub_title\"],\n",
    "                author = row[\"author\"],\n",
    "                title = row[\"title\"],\n",
    "                date = row[\"date\"],\n",
    "                url = row[\"url\"],\n",
    "                text = row[\"text\"],\n",
    "                id_news = row[\"_id\"]\n",
    "               )\n",
    "    graph.merge(node, \"News\", \"url\")\n",
    "    #Print progress\n",
    "    clear_output(wait=True)\n",
    "    print('Progress: {0:.4f} %'.format((index + 1) / news.shape[0] * 100))"
   ]
  },
  {
   "cell_type": "code",
   "execution_count": null,
   "metadata": {},
   "outputs": [],
   "source": [
    "# insert comment node\n",
    "for index, row in comments.iterrows():\n",
    "    node = Node(\"Comment\",\n",
    "                author = row[\"author\"],\n",
    "                date = row[\"date\"],\n",
    "                text = row[\"text\"],\n",
    "                _id = row[\"author\"] + row[\"text\"]\n",
    "               )\n",
    "    graph.merge(node, \"Comment\", \"_id\")\n",
    "    #Print progress\n",
    "    clear_output(wait=True)\n",
    "    print('Progress: {0:.4f} %'.format((index + 1) / comments.shape[0] * 100))"
   ]
  },
  {
   "cell_type": "code",
   "execution_count": null,
   "metadata": {},
   "outputs": [],
   "source": [
    "# insert reader node\n",
    "for index, row in comments.iterrows():\n",
    "    node = Node(\"Reader\",\n",
    "                name = row[\"author\"]\n",
    "               )\n",
    "    graph.merge(node, \"Reader\", \"name\")\n",
    "    #Print progress\n",
    "    clear_output(wait=True)\n",
    "    print('Progress: {0:.4f} %'.format((index + 1) / comments.shape[0] * 100))"
   ]
  },
  {
   "cell_type": "code",
   "execution_count": null,
   "metadata": {},
   "outputs": [],
   "source": [
    "#Commit the transaction\n",
    "graph.commit()\n",
    "#Open transaction\n",
    "graph = neo4j_sandbox.begin()"
   ]
  },
  {
   "cell_type": "markdown",
   "metadata": {},
   "source": [
    "#### Relationships"
   ]
  },
  {
   "cell_type": "code",
   "execution_count": null,
   "metadata": {},
   "outputs": [],
   "source": [
    "# insert view relationship\n",
    "for index, row in comments.iterrows():\n",
    "    news = neo4j_sandbox.nodes.match(\"News\", id_news = row[\"id_article\"]).first()\n",
    "    reader = neo4j_sandbox.nodes.match(\"Reader\", name=row[\"author\"]).first()\n",
    "    rel = Relationship(reader, 'VIEW', news)\n",
    "    graph.create(rel) \n",
    "    #Print progress\n",
    "    clear_output(wait=True)\n",
    "    print('Progress: {0:.4f} %'.format((index + 1) / comments.shape[0] * 100))"
   ]
  },
  {
   "cell_type": "code",
   "execution_count": null,
   "metadata": {},
   "outputs": [],
   "source": [
    "# insert view relationship\n",
    "for index, row in comments.iterrows():\n",
    "    news = neo4j_sandbox.nodes.match(\"News\", id_news = row[\"id_article\"]).first()\n",
    "    comment = neo4j_sandbox.nodes.match(\"Comment\", author = row[\"author\"]).first()\n",
    "    rel = Relationship(comment, 'PUBLISHED', news)\n",
    "    rel[\"date\"] = row[\"date\"]\n",
    "    graph.create(rel)\n",
    "    #Print progress\n",
    "    clear_output(wait=True)\n",
    "    print('Progress: {0:.4f} %'.format((index + 1) / comments.shape[0] * 100))"
   ]
  },
  {
   "cell_type": "code",
   "execution_count": null,
   "metadata": {},
   "outputs": [],
   "source": [
    "#Commit the transaction\n",
    "graph.commit()"
   ]
  },
  {
   "cell_type": "markdown",
   "metadata": {},
   "source": [
    "### Format and structure articles text fields"
   ]
  },
  {
   "cell_type": "code",
   "execution_count": 3,
   "metadata": {},
   "outputs": [
    {
     "name": "stderr",
     "output_type": "stream",
     "text": [
      "[nltk_data] Downloading package stopwords to\n",
      "[nltk_data]     /home/diogoflorencio/nltk_data...\n",
      "[nltk_data]   Package stopwords is already up-to-date!\n"
     ]
    },
    {
     "ename": "NameError",
     "evalue": "name 'news' is not defined",
     "output_type": "error",
     "traceback": [
      "\u001b[0;31m---------------------------------------------------------------------------\u001b[0m",
      "\u001b[0;31mNameError\u001b[0m                                 Traceback (most recent call last)",
      "\u001b[0;32m<ipython-input-3-7a5f7fcdd016>\u001b[0m in \u001b[0;36m<module>\u001b[0;34m\u001b[0m\n\u001b[1;32m     42\u001b[0m     \u001b[0mindex\u001b[0m \u001b[0;34m=\u001b[0m \u001b[0;36m0\u001b[0m\u001b[0;34m\u001b[0m\u001b[0;34m\u001b[0m\u001b[0m\n\u001b[1;32m     43\u001b[0m \u001b[0;34m\u001b[0m\u001b[0m\n\u001b[0;32m---> 44\u001b[0;31m     \u001b[0;32mfor\u001b[0m \u001b[0marticle\u001b[0m \u001b[0;32min\u001b[0m \u001b[0mnews\u001b[0m\u001b[0;34m[\u001b[0m\u001b[0mcollection\u001b[0m\u001b[0;34m]\u001b[0m\u001b[0;34m.\u001b[0m\u001b[0mfind\u001b[0m\u001b[0;34m(\u001b[0m\u001b[0;34m)\u001b[0m\u001b[0;34m:\u001b[0m\u001b[0;34m\u001b[0m\u001b[0;34m\u001b[0m\u001b[0m\n\u001b[0m\u001b[1;32m     45\u001b[0m         \u001b[0;32mtry\u001b[0m\u001b[0;34m:\u001b[0m\u001b[0;34m\u001b[0m\u001b[0;34m\u001b[0m\u001b[0m\n\u001b[1;32m     46\u001b[0m             \u001b[0marticle\u001b[0m\u001b[0;34m[\u001b[0m\u001b[0;34m'section'\u001b[0m\u001b[0;34m]\u001b[0m \u001b[0;34m=\u001b[0m \u001b[0mprocessSection\u001b[0m\u001b[0;34m(\u001b[0m\u001b[0mprocess_text\u001b[0m\u001b[0;34m(\u001b[0m\u001b[0marticle\u001b[0m\u001b[0;34m[\u001b[0m\u001b[0;34m'section'\u001b[0m\u001b[0;34m]\u001b[0m\u001b[0;34m)\u001b[0m\u001b[0;34m)\u001b[0m\u001b[0;34m\u001b[0m\u001b[0;34m\u001b[0m\u001b[0m\n",
      "\u001b[0;31mNameError\u001b[0m: name 'news' is not defined"
     ]
    }
   ],
   "source": [
    "import nltk\n",
    "import re\n",
    "from pymongo import MongoClient\n",
    "from nltk.corpus import stopwords\n",
    "nltk.download('stopwords')\n",
    "\n",
    "HOST_IP = '192.168.1.4' # define host's ip\n",
    "\n",
    "client = MongoClient(HOST_IP, 27017)\n",
    "news = client['news_2018']\n",
    "collections = ['folha', 'gazeta_do_povo', 'oglobo', 'veja']\n",
    "\n",
    "def processSection(section):\n",
    "    if 'pol' in section or 'poder' in section:\n",
    "        return 'politica'\n",
    "    elif 'opini' in section or 'felipe' in section or 'colunas' in section or 'renan' in section or 'mario' in section or 'claudio' in section:\n",
    "        return 'opiniao'\n",
    "    elif 'esport' in section or 'copa' in section:\n",
    "        return 'esporte'\n",
    "    elif 'mundo' in section or 'intern' in section:\n",
    "        return 'internacional'\n",
    "    elif 'econ' in section or 'merca' in section:\n",
    "        return 'economia'\n",
    "    elif 'ci' in section or 'tec' in section:\n",
    "        return 'tecnologia'\n",
    "    elif 'edu' in section or 'merca' in section:\n",
    "        return 'educacao'\n",
    "    else:\n",
    "        return 'diversos'\n",
    "\n",
    "# function for processing text\n",
    "def process_text(text):\n",
    "    text = re.sub(u'[^a-zA-Z0-9áéíóúÁÉÍÓÚâêîôÂÊÎÔãõÃÕçÇ%]', ' ', str(text)).lower()\n",
    "    text = text.split() # split sentences by words\n",
    "    stop_words = stopwords.words('portuguese') # load stop words\n",
    "    text = [word for word in text if word not in stop_words] # Remove stopwords\n",
    "    return \" \".join(text)\n",
    "\n",
    "for collection in collections:\n",
    "\n",
    "    len_collection = db[collection].count_documents({})\n",
    "    index = 0\n",
    "    \n",
    "    for article in news[collection].find():\n",
    "        try:\n",
    "            article['section'] = processSection(process_text(article['section']))\n",
    "            article['text'] = process_text(article['text'])\n",
    "            article['title'] = process_text(article['title'])\n",
    "            article['sub_title'] = process_text(article['sub_title'])\n",
    "            # update news\n",
    "            news[collection].update_one({'_id' : article['_id']}, \n",
    "                                        {'$set' : {'section':article['section'],\n",
    "                                                'text':article['text'],\n",
    "                                                'title':article['title']                                    \n",
    "                                               }\n",
    "                                         })\n",
    "            # print status\n",
    "            index += 1\n",
    "            print('Portal: {0} - Progress: {1:.4f} %'.format(collection, index / len_collection * 100), end='\\r')\n",
    "            \n",
    "        except:\n",
    "            print('Formatting error')\n",
    "                "
   ]
  },
  {
   "cell_type": "code",
   "execution_count": null,
   "metadata": {},
   "outputs": [],
   "source": []
  }
 ],
 "metadata": {
  "kernelspec": {
   "display_name": "Python 3",
   "language": "python",
   "name": "python3"
  },
  "language_info": {
   "codemirror_mode": {
    "name": "ipython",
    "version": 3
   },
   "file_extension": ".py",
   "mimetype": "text/x-python",
   "name": "python",
   "nbconvert_exporter": "python",
   "pygments_lexer": "ipython3",
   "version": "3.6.9"
  }
 },
 "nbformat": 4,
 "nbformat_minor": 2
}
