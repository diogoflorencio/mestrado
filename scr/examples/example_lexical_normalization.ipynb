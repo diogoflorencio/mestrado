{
 "cells": [
  {
   "cell_type": "code",
   "execution_count": 1,
   "metadata": {},
   "outputs": [
    {
     "name": "stdout",
     "output_type": "stream",
     "text": [
      "{'msm': 'mesmo', 'qe': 'que', 'qd': 'quando', 'nº': 'número', 'tbém': 'também', 'tdo': 'tudo', 'qndo': 'quando', 'qnd': 'quando', 'maq': 'máquina', 'enqto': 'enquanto', 'qse': 'quase', 'máq': 'máquina', 'sist': 'sistema', 'qtde': 'quantidade', 'img': 'imagem', 'cond': 'condição', 'qnto': 'quanto', 'qt': 'quanto', 'dmais': 'demais', 'qero': 'quero', 'celu': 'celular', 'refri': 'refrigerante', 'quant': 'quantidade', 'qqr': 'qualquer', 'vc': 'você', 'mto': 'muito', 'hj': 'hoje', 'tmb': 'também', 'téc': 'técnico', 'obg': 'obrigado', 'mtos': 'muitos', 'hr': 'hora', 'eqpto': 'equipamento', 'msgs': 'mensagens', 'eqto': 'enquanto', 'bjos': 'beijos', 'nro': 'número', 'mic': 'microfone', 'agr': 'agora', 'tecn': 'técnico', 'promo': 'promoção', 'nots': 'notebooks', 'próx': 'próximo', 'qdo': 'quando', 'vcs': 'vocês', 'qto': 'quanto', 'msg': 'mensagem', 'mah': 'miliampere-hora', 'tbem': 'também', 'assist': 'assistência', 'hrs': 'horas', 'bb': 'bebê', 'mem': 'memória', 'gde': 'grande', 'mtas': 'muitas', 'rec': 'REC', 'ngm': 'ninguém', 'bf3': 'Battlefield', 'vw': 'valeu', 'atend': 'atendimento', 'btooth': 'bluetooth', 'tbm': 'também', 'né': 'não', 'td': 'tudo', 'qq': 'qualquer', 'mta': 'muita', 'vs': 'vocês', 'qquer': 'qualquer', 'bjs': 'beijos', 'vlr': 'valor', 'px': 'próxima', 'dps': 'depois', 'prq': 'porque', 'apt': 'apartamento', 'mgs': 'mensagens', 'thx': 'obrigado', 'pqe': 'porque'}\n"
     ]
    }
   ],
   "source": [
    "# loading abbreviation dic\n",
    "with open('../dics/AB_dict') as f:\n",
    "    abbreviation = f.readlines()\n",
    "# process dic    \n",
    "abbreviation = [x.split() for x in abbreviation]\n",
    "abbreviation = {line[0]: line[1] for line in abbreviation}\n",
    "print(abbreviation)"
   ]
  },
  {
   "cell_type": "code",
   "execution_count": 18,
   "metadata": {},
   "outputs": [
    {
     "name": "stdout",
     "output_type": "stream",
     "text": [
      "{'eh': 'é', 'd+': 'demais', 'boua': 'boa', 'axo': 'acho', 'blá': 'barulho', 'tah': 'está', 'fika': 'fica', 'hum': 'expectativa', 'xou': 'show', 'mt': 'muito', 'tudibão': 'tudo de bom', 'hm': 'expectativa', 'kem': 'quem', 'akeles': 'aqueles', 'taria': 'estaria', 'tô': 'estou', 'af': 'desapontamento', 'bão': 'bom', 'neh': 'né', 'daora': 'da hora', 'ah': 'ah', 'snif': 'triste', 'ñ': 'não', 'naum': 'não', 'oq': 'o que', 'aki': 'aqui', 'xing-ling': 'Xing Ling', 'axei': 'achei', 'kero': 'quero', 'xingling': 'Xing Ling', 'tals': 'tal', 'xing-lings': 'Xing Lings', 'poko': 'pouco', 'valew': 'valeu', 'tai': 'está ai', 'nunka': 'nunca', 'vç': 'você', 'ae': 'aí', 'soh': 'só', 'jah': 'já', 'tou': 'estou', 'vlw': 'valeu', 'ateh': 'até', 'ksa': 'casa', 'putz': 'puxa vida', 'issu': 'isso', 'êh': 'é', 'xingue-lingue': 'Xing Ling', 'estah': 'está', 'nunk': 'nunca', 'dah': 'dá', 'uau': 'surpresa', 'fik': 'fica', 'm*': 'merda', 'tudu': 'tudo'}\n"
     ]
    }
   ],
   "source": [
    "# loading internet_slang dic\n",
    "with open('../dics/IN_dict') as f:\n",
    "    internet_slang = f.readlines()\n",
    "# process dic    \n",
    "internet_slang = [x.split() for x in internet_slang]\n",
    "internet_slang = {line[0]: ' '.join(line[1:]) for line in internet_slang}\n",
    "print(internet_slang)"
   ]
  },
  {
   "cell_type": "code",
   "execution_count": 21,
   "metadata": {},
   "outputs": [
    {
     "name": "stdout",
     "output_type": "stream",
     "text": [
      "{'desing': 'design', 'home': 'home theater', 'smartv': 'Smart TV', 'disign': 'design', 'desingn': 'design', 'desiner': 'designer', 'caption': 'closed caption', 'scaner': 'scanner', 'desine': 'design', 'displey': 'display', 'desin': 'design', 'desgin': 'design', 'desigh': 'design', 'displei': 'display', 'desgne': 'design', 'standy': 'stand-by', 'scren': 'touchscreen', 'dispaly': 'display', 'dsigner': 'designer', 'pendriver': 'pendrive', 'noteboock': 'notebook', 'ultrabok': 'ultrabook', 'designin': 'design', 'designi': 'design', 'wireles': 'wireless', 'desinge': 'design', 'dsign': 'design', 'dsiner': 'design', 'sait': 'site', 'up-grade': 'upgrade', 'índex': 'index', 'dezaine': 'design', 'dispencer': 'dispenser', 'desain': 'design', 'freeser': 'freezer', 'desagne': 'design', 'notbook': 'notebook', 'desgner': 'designer', 'theather': 'home theater', 'teather': 'home theater', 'ebooks': 'e-books', 'touch-screen': 'touchscreen', 'disigner': 'designer', 'desainer': 'designer', 'webcan': 'webcam', 'shoping': 'shopping', 'lay': 'layout', 'disgn': 'design', 'screem': 'touchscreen', 'flasch': 'flash', 'desginer': 'designer', 'firmaware': 'firmware', 'desaign': 'design', 'smartfone': 'smartphone', 'gril': 'grill', 'hometheater': 'home theater', 'desingner': 'designer', 'frizer': 'freezer', 'desinger': 'design', 'scream': 'touchscreen', 'zoo': 'zoom', 'dising': 'design', 'smatphones': 'smartphones', 'lay-out': 'layout', 'capslock': 'Caps Lock', 'teacher': 'home theater', 'dessign': 'design', 'wiriless': 'wireless', 'fross': 'frost free', 'disigne': 'design', 'table': 'tablet', 'touche': 'touchscreen', 'nootebook': 'notebook', 'dsaine': 'design', 'cans': 'webcams', 'sreen': 'touchscreen', 'escreen': 'touchscreen', 'touchsren': 'touchscreen', 'touchscreem': 'touchscreen', 'zum': 'zoom'}\n"
     ]
    }
   ],
   "source": [
    "# loading foreign_word dic\n",
    "with open('../dics/ES_dict') as f:\n",
    "    foreign_word = f.readlines()\n",
    "# process dic    \n",
    "foreign_word = [x.split() for x in foreign_word]\n",
    "foreign_word = [line for line in foreign_word if len(line) > 1] # selecting valid lines\n",
    "foreign_word = {line[0]: ' '.join(line[1:]) for line in foreign_word}\n",
    "print(foreign_word)"
   ]
  },
  {
   "cell_type": "code",
   "execution_count": 5,
   "metadata": {},
   "outputs": [],
   "source": [
    "## loading acronym dic\n",
    "#with open('../dics/SI_dict') as f:\n",
    "#    acronym = f.readlines()\n",
    "## process dic    \n",
    "#acronym = [x.split() for x in acronym]\n",
    "#acronym = {line[0]: line[1] for line in acronym}\n",
    "#print(acronym)"
   ]
  }
 ],
 "metadata": {
  "kernelspec": {
   "display_name": "Python 3",
   "language": "python",
   "name": "python3"
  },
  "language_info": {
   "codemirror_mode": {
    "name": "ipython",
    "version": 3
   },
   "file_extension": ".py",
   "mimetype": "text/x-python",
   "name": "python",
   "nbconvert_exporter": "python",
   "pygments_lexer": "ipython3",
   "version": "3.6.9"
  }
 },
 "nbformat": 4,
 "nbformat_minor": 4
}
