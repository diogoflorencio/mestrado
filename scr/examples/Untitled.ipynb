{
 "cells": [
  {
   "cell_type": "markdown",
   "metadata": {},
   "source": [
    "### Format and structure articles text fields"
   ]
  },
  {
   "cell_type": "code",
   "execution_count": 1,
   "metadata": {},
   "outputs": [],
   "source": [
    "import nltk\n",
    "import re\n",
    "from pymongo import MongoClient\n",
    "\n",
    "HOST_IP = '192.168.1.7' # define host's ip"
   ]
  },
  {
   "cell_type": "code",
   "execution_count": 2,
   "metadata": {},
   "outputs": [],
   "source": [
    "client = MongoClient(HOST_IP, 27017)\n",
    "news_2018 = client['news_2018']\n",
    "news= client['news']\n",
    "collections = ['folhaComments']"
   ]
  },
  {
   "cell_type": "code",
   "execution_count": null,
   "metadata": {},
   "outputs": [
    {
     "name": "stdout",
     "output_type": "stream",
     "text": [
      "Portal: folhaComments - Progress: 83.3362 %\r"
     ]
    }
   ],
   "source": [
    "for collection in collections:\n",
    "\n",
    "    len_collection = news[collection].count_documents({})\n",
    "    index = 0\n",
    "    \n",
    "    for comment in news[collection].find({}, no_cursor_timeout=True).batch_size(5):\n",
    "        try:\n",
    "            news_2018[collection].insert_one(comment)\n",
    "\n",
    "            # print status\n",
    "            index += 1\n",
    "            print('Portal: {0} - Progress: {1:.4f} %'.format(collection, index / len_collection * 100), end='\\r')\n",
    "        except:\n",
    "            pass"
   ]
  },
  {
   "cell_type": "code",
   "execution_count": null,
   "metadata": {},
   "outputs": [],
   "source": [
    "article = client['news-2018']['carta_capital'].find_one({}, {'url':\"https://chuteirafc.cartacapital.com.br/a-carta-de-daniel/\"})\n",
    "print(article)"
   ]
  },
  {
   "cell_type": "code",
   "execution_count": null,
   "metadata": {},
   "outputs": [],
   "source": []
  }
 ],
 "metadata": {
  "kernelspec": {
   "display_name": "Python 3",
   "language": "python",
   "name": "python3"
  },
  "language_info": {
   "codemirror_mode": {
    "name": "ipython",
    "version": 3
   },
   "file_extension": ".py",
   "mimetype": "text/x-python",
   "name": "python",
   "nbconvert_exporter": "python",
   "pygments_lexer": "ipython3",
   "version": "3.6.9"
  }
 },
 "nbformat": 4,
 "nbformat_minor": 4
}
