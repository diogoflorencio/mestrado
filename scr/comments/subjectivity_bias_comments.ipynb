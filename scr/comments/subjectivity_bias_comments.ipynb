{
 "cells": [
  {
   "cell_type": "markdown",
   "metadata": {},
   "source": [
    "# Analysis of subjectivity in comments"
   ]
  },
  {
   "cell_type": "code",
   "execution_count": null,
   "metadata": {},
   "outputs": [],
   "source": [
    "# -*- coding: utf-8 -*-\n",
    "from __future__ import print_function\n",
    "import pandas as pd\n",
    "import numpy as np\n",
    "import nltk\n",
    "import re\n",
    "from nltk.corpus import stopwords\n",
    "nltk.download('stopwords')\n",
    "from gensim.models import KeyedVectors\n",
    "from scipy.spatial.distance import cosine\n",
    "from sklearn.feature_extraction.text import CountVectorizer\n",
    "from sklearn.metrics import euclidean_distances\n",
    "from pyemd import emd\n",
    "from pymongo import MongoClient\n",
    "\n",
    "PUNCTUATION = u'[^a-zA-Z0-9áéíóúÁÉÍÓÚâêîôÂÊÎÔãõÃÕçÇ%]' # define news punctuation \n",
    "SENTENCE_SIZE_THRESHOLD = 2 # Minimum length of a text\n",
    "HOST_IP = '192.168.1.6' # define host's ip"
   ]
  },
  {
   "cell_type": "markdown",
   "metadata": {},
   "source": [
    "### Defining Lexicons"
   ]
  },
  {
   "cell_type": "code",
   "execution_count": null,
   "metadata": {},
   "outputs": [],
   "source": [
    "#  Lexicons definition\n",
    "argumentacao = \"a_ponto ao_menos apenas ate ate_mesmo incluindo inclusive mesmo nao_mais_que nem_mesmo no_minimo o_unico a_unica pelo_menos quando_menos quando_muito sequer so somente a_par_disso ademais afinal ainda alem alias como e e_nao em_suma enfim mas_tambem muito_menos nao_so nem ou_mesmo por_sinal tambem tampouco assim com_isso como_consequencia consequentemente de_modo_que deste_modo em_decorrencia entao logicamente logo nesse_sentido pois por_causa por_conseguinte por_essa_razao por_isso portanto sendo_assim ou ou_entao ou_mesmo nem como_se de_um_lado por_outro_lado mais_que menos_que tanto quanto tao como desde_que do_contrario em_lugar em_vez enquanto no_caso quando se se_acaso senao de_certa_forma desse_modo em_funcao enquanto isso_e ja_que na_medida_que nessa_direcao no_intuito no_mesmo_sentido ou_seja pois porque que uma_vez_que tanto_que visto_que ainda_que ao_contrario apesar_de contrariamente contudo embora entretanto fora_isso mas mesmo_que nao_obstante nao_fosse_isso no_entanto para_tanto pelo_contrario por_sua_vez porem posto_que todavia\"\n",
    "modalizacao = \"achar aconselhar acreditar aparente basico bastar certo claro conveniente crer dever dificil duvida efetivo esperar evidente exato facultativo falar fato fundamental imaginar importante indubitavel inegavel justo limitar logico natural necessario negar obrigatorio obvio parecer pensar poder possivel precisar predominar presumir procurar provavel puder real recomendar seguro supor talvez tem tendo ter tinha tive verdade decidir\"\n",
    "valoracao = \"absoluto algum alto amplo aproximado bastante bem bom categorico cerca completo comum consideravel constante definitivo demais elevado enorme escasso especial estrito eventual exagero excelente excessivo exclusivo expresso extremo feliz franco franqueza frequente generalizado geral grande imenso incrivel lamentavel leve maioria mais mal melhor menos mero minimo minoria muito normal ocasional otimo particular pena pequeno pesar pior pleno pobre pouco pouquissimo praticamente prazer preciso preferir principal quase raro razoavel relativo rico rigor sempre significativo simples tanto tao tipico total tremenda usual valer\"\n",
    "sentimento = \"abalar abater abominar aborrecer acalmar acovardar admirar adorar afligir agitar alarmar alegrar alucinar amar ambicionar amedrontar amolar animar apavorar apaziguar apoquentar aporrinhar apreciar aquietar arrepender assombrar assustar atazanar atemorizar aterrorizar aticar atordoar atormentar aturdir azucrinar chatear chocar cobicar comover confortar confundir consolar constranger contemplar contentar contrariar conturbar curtir debilitar decepcionar depreciar deprimir desapontar descontentar descontrolar desejar desencantar desencorajar desesperar desestimular desfrutar desgostar desiludir desinteressar deslumbrar desorientar desprezar detestar distrair emocionar empolgar enamorar encantar encorajar endividar enervar enfeiticar enfurecer enganar enraivecer entediar entreter entristecer entusiasmar envergonhar escandalizar espantar estimar estimular estranhar exaltar exasperar excitar execrar fascinar frustar gostar gozar grilar hostilizar idolatrar iludir importunar impressionar incomodar indignar inibir inquietar intimidar intrigar irar irritar lamentar lastimar louvar magoar maravilhar melindrar menosprezar odiar ofender pasmar perdoar preocupar prezar querer recalcar recear reconfortar rejeitar repelir reprimir repudiar respeitar reverenciar revoltar seduzir sensibilizar serenar simpatizar sossegar subestimar sublimar superestimar surpreender temer tolerar tranquilizar transtornar traumatizar venerar\" #malquerer obcecar\n",
    "pressuposicao = \"adivinhar admitir agora aguentar ainda antes atentar atual aturar comecar compreender conseguir constatar continuar corrigir deixar demonstrar descobrir desculpar desde desvendar detectar entender enxergar esclarecer escutar esquecer gabar ignorar iniciar interromper ja lembrar momento notar observar olhar ouvir parar perceber perder pressentir prever reconhecer recordar reparar retirar revelar saber sentir tolerar tratar ver verificar\""
   ]
  },
  {
   "cell_type": "markdown",
   "metadata": {},
   "source": [
    "### Loading dics"
   ]
  },
  {
   "cell_type": "code",
   "execution_count": null,
   "metadata": {},
   "outputs": [],
   "source": [
    "# loading abbreviation dic\n",
    "with open('../dics/AB_dict') as f:\n",
    "    abbreviation = f.readlines()\n",
    "# process dic    \n",
    "abbreviation = [x.split() for x in abbreviation]\n",
    "abbreviation = {line[0]: line[1] for line in abbreviation}\n",
    "\n",
    "# loading internet_slang dic\n",
    "with open('../dics/IN_dict') as f:\n",
    "    internet_slang = f.readlines()\n",
    "# process dic    \n",
    "internet_slang = [x.split() for x in internet_slang]\n",
    "internet_slang = {line[0]: ' '.join(line[1:]) for line in internet_slang}\n",
    "\n",
    "# loading foreign_word dic\n",
    "with open('../dics/ES_dict') as f:\n",
    "    foreign_word = f.readlines()\n",
    "# process dic    \n",
    "foreign_word = [x.split() for x in foreign_word]\n",
    "foreign_word = [line for line in foreign_word if len(line) > 1] # selecting valid lines\n",
    "foreign_word = {line[0]: ' '.join(line[1:]) for line in foreign_word}\n",
    "\n",
    "# Mapping words in lexicons\n",
    "map_lexicons = {'a ponto':'a_ponto','ao menos ':'ao_menos ','ate mesmo ':'ate_mesmo ',\n",
    "                'nao mais que ':'nao_mais_que ','nem mesmo ':'nem_mesmo ','no minimo ':'no_minimo ',\n",
    "                'o unico ':'o_unico ','a unica ':'a_unica ','pelo menos ':'pelo_menos ',\n",
    "                'quando menos ':'quando_menos ','quando muito ':'quando_muito ','a par disso ':'a_par_disso ',\n",
    "                'e nao ':'e_nao ','em suma ':'em_suma ','mas tambem ': 'mas_tambem ','muito menos ':'muito_menos ',\n",
    "                'nao so ':'nao_so ','ou mesmo ':'ou_mesmo ','por sinal ':'por_sinal ','com isso ':'com_isso ',\n",
    "                'como consequencia ':'como_consequencia ','de modo que ':'de_modo_que ','deste modo ':'deste_modo ',\n",
    "                'em decorrencia ':'em_decorrencia ','nesse sentido ':'nesse_sentido ','por causa ':'por_causa ',\n",
    "                'por conseguinte ':'por_conseguinte ','por essa razao ':'por_essa_razao ','por isso ':'por_isso ',\n",
    "                'sendo assim ':'sendo_assim ','ou entao ':'ou_entao ','ou mesmo ':'ou_mesmo ','como se ':'como_se ',\n",
    "                'de um lado ':'de_um_lado ','por outro lado ':'por_outro_lado ','mais que ':'mais_que ',\n",
    "                'menos que ':'menos_que ','desde que ':'desde_que ','do contrario ':'do_contrario ',\n",
    "                'em lugar ':'em_lugar ','em vez ':'em_vez','no caso ':'no_caso ','se acaso ':'se_acaso ',\n",
    "                'de certa forma ':'de_certa_forma ','desse modo ':'desse_modo ','em funcao ':'em_funcao ',\n",
    "                'isso e ':'isso_e ','ja que ':'ja_que ','na medida que ':'na_medida_que ','nessa direcao ':'nessa_direcao ',\n",
    "                'no intuito ':'no_intuito ','no mesmo sentido ':'no_mesmo_sentido ','ou seja ':'ou_seja ',\n",
    "                'uma vez que ':'uma_vez_que ','tanto que ':'tanto_que ','visto que ':'visto_que ','ainda que ':'ainda_que ',\n",
    "                'ao contrario ':'ao_contrario ','apesar de ':'apesar_de ','fora isso ':'fora_isso ','mesmo que ':'mesmo_que ',\n",
    "                'nao obstante ':'nao_obstante ','nao fosse isso ':'nao_fosse_isso ','no entanto ':'no_entanto ',\n",
    "                'para tanto ':'para_tanto ','pelo contrario ':'pelo_contrario ','por sua vez ':'por_sua_vez ','posto que ':'posto_que '\n",
    "               }"
   ]
  },
  {
   "cell_type": "markdown",
   "metadata": {},
   "source": [
    "### Defining functions"
   ]
  },
  {
   "cell_type": "code",
   "execution_count": null,
   "metadata": {},
   "outputs": [],
   "source": [
    "# Lexical normalization\n",
    "def lexical_normalization(text):\n",
    "    for k, v in abbreviation.items():\n",
    "        text = str(text).replace(k,v)        \n",
    "    for k, v in internet_slang.items():\n",
    "        text = str(text).replace(k,v)        \n",
    "    for k, v in foreign_word.items():\n",
    "        text = str(text).replace(k,v)\n",
    "    return text\n",
    "\n",
    "# Convert word from text into lexicons\n",
    "def word2lexicon(text):\n",
    "    text = str(text) + \" \"\n",
    "    text = re.sub(PUNCTUATION, ' ', text).lower() # remove punctuation from text\n",
    "    for k, v in map_lexicons.items():\n",
    "        text = text.replace(k,v)\n",
    "    return text\n",
    "\n",
    "# function for processing text\n",
    "def process_sentences(text):\n",
    "    stop_words = stopwords.words('portuguese') # load stop words\n",
    "    text = text.split() # split sentences by words\n",
    "    text = [word for word in text if word not in stop_words] # Remove stopwords\n",
    "    text = [word for word in text if bytes(word, 'utf-8') in vocab_dict] # Remove words that aren't in the vocabulary\n",
    "    return \" \".join(text)\n",
    "\n",
    "# Compute the validity of the text by SENTENCE_SIZE_THRESHOLD\n",
    "def is_valid_text(text):    \n",
    "    return (True if len(text.split()) >= SENTENCE_SIZE_THRESHOLD else False)\n",
    "\n",
    "# Check if the word is in the vocabulary\n",
    "def check_value(word):\n",
    "    return (vocab_dict[word.encode()] if(word.encode() in vocab_dict) else 0)\n",
    "\n",
    "# Compute the euclidean distances between the lexicons and the text\n",
    "def lexicon_rate(lexicon, text):\n",
    "    vect = CountVectorizer(token_pattern=\"(?u)\\\\b[\\\\w-]+\\\\b\", strip_accents=None).fit([lexicon, text])\n",
    "    v_1, v_2 = vect.transform([lexicon, text])\n",
    "    v_1 = v_1.toarray().ravel()\n",
    "    v_2 = v_2.toarray().ravel()\n",
    "    W_ = W[[check_value(w) for w in vect.get_feature_names()]]\n",
    "    D_ = euclidean_distances(W_)\n",
    "    v_1 = v_1.astype(np.double)\n",
    "    v_2 = v_2.astype(np.double)\n",
    "    v_1 /= v_1.sum()\n",
    "    v_2 /= v_2.sum()\n",
    "    D_ = D_.astype(np.double)\n",
    "    D_ /= D_.max()\n",
    "    lex=emd(v_1, v_2, D_)\n",
    "    return(lex)\n",
    "\n",
    "# Compute bias for each lexicon dimension\n",
    "def wmd_ratings(text):\n",
    "    if(is_valid_text(text)):\n",
    "        arg = lexicon_rate(argumentacao, text)\n",
    "        mod = lexicon_rate(modalizacao, text)\n",
    "        val = lexicon_rate(valoracao, text)\n",
    "        sen = lexicon_rate(sentimento, text)\n",
    "        pre = lexicon_rate(pressuposicao, text)\n",
    "        return arg, sen, val, mod, pre\n",
    "    else :\n",
    "        return -1, -1, -1, -1, -1"
   ]
  },
  {
   "cell_type": "markdown",
   "metadata": {},
   "source": [
    "### Loading and Process Word Embeddings"
   ]
  },
  {
   "cell_type": "code",
   "execution_count": null,
   "metadata": {},
   "outputs": [],
   "source": [
    "# Load model\n",
    "wv = KeyedVectors.load_word2vec_format('../embeddings/news_vectors.bin', binary=False)\n",
    "wv.init_sims()\n",
    "vocab_dict ={word.encode('utf-8'):vocab.index for word, vocab in wv.vocab.items()} # vocabulary\n",
    "W = np.double(wv.vectors_norm) # embeddings"
   ]
  },
  {
   "cell_type": "markdown",
   "metadata": {},
   "source": [
    "### Compute subjectivity"
   ]
  },
  {
   "cell_type": "code",
   "execution_count": null,
   "metadata": {},
   "outputs": [],
   "source": [
    "# init client mongo\n",
    "client = MongoClient(HOST_IP, 27017)\n",
    "\n",
    "# select db\n",
    "db = client['news_2018']\n",
    "\n",
    "# define colelctions\n",
    "collections = [\"oantagonistaComments\", \"ogloboComments\", \"vejaComments\"]\n",
    "\n",
    "for collection in collections:\n",
    "    len_collection = db[collection].find({}).count()\n",
    "    index = 0\n",
    "    for comment in db[collection].find({}, no_cursor_timeout=True).batch_size(5):\n",
    "        text = comment[\"text\"]\n",
    "        \n",
    "        # Processing text\n",
    "        text = lexical_normalization(text)\n",
    "        text = word2lexicon(text) \n",
    "        text = process_sentences(text)\n",
    "        \n",
    "        # Print log\n",
    "        print('Portal: {0} - Progress: {1:.4f} % - Comment: {2}'.format(collection, index / len_collection * 100, text), end='\\r')\n",
    "        index += 1\n",
    "        \n",
    "        # Compute news bias\n",
    "        arg, sen, val, mod, pre = wmd_ratings(text)\n",
    "        # Insert bias in database\n",
    "        db[collection].update_one({'_id' : comment['_id']}, \n",
    "                         {'$set' : {'arg':arg,\n",
    "                                    'sen':sen,\n",
    "                                    'val':val,\n",
    "                                    'mod':mod,\n",
    "                                    'pre':pre, \n",
    "                                    'text':text\n",
    "                                   }\n",
    "                         })       "
   ]
  }
 ],
 "metadata": {
  "anaconda-cloud": {},
  "kernelspec": {
   "display_name": "Python 3",
   "language": "python",
   "name": "python3"
  },
  "language_info": {
   "codemirror_mode": {
    "name": "ipython",
    "version": 3
   },
   "file_extension": ".py",
   "mimetype": "text/x-python",
   "name": "python",
   "nbconvert_exporter": "python",
   "pygments_lexer": "ipython3",
   "version": "3.6.9"
  }
 },
 "nbformat": 4,
 "nbformat_minor": 1
}
