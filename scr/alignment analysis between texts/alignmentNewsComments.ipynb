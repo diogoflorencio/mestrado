{
 "cells": [
  {
   "cell_type": "markdown",
   "metadata": {},
   "source": [
    "# Alignment between news and comments"
   ]
  },
  {
   "cell_type": "code",
   "execution_count": null,
   "metadata": {},
   "outputs": [],
   "source": [
    "import nltk\n",
    "import re\n",
    "from gensim.models import KeyedVectors\n",
    "from pymongo import MongoClient\n",
    "from nltk.corpus import stopwords\n",
    "nltk.download('stopwords')\n",
    "\n",
    "PUNCTUATION = u'[^a-zA-Z0-9áéíóúÁÉÍÓÚâêîôÂÊÎÔãõÃÕçÇ%]' # define news punctuation \n",
    "SENTENCE_SIZE_THRESHOLD = 2 # Minimum length of a text\n",
    "HOST_IP = '192.168.1.7' # define host's ip"
   ]
  },
  {
   "cell_type": "markdown",
   "metadata": {},
   "source": [
    "### Loading dicts"
   ]
  },
  {
   "cell_type": "code",
   "execution_count": null,
   "metadata": {},
   "outputs": [],
   "source": [
    "# loading abbreviation dic\n",
    "with open('../dics/AB_dict') as f:\n",
    "    abbreviation = f.readlines()\n",
    "# process dic    \n",
    "abbreviation = [x.split() for x in abbreviation]\n",
    "abbreviation = {line[0]: line[1] for line in abbreviation}\n",
    "\n",
    "# loading internet_slang dic\n",
    "with open('../dics/IN_dict') as f:\n",
    "    internet_slang = f.readlines()\n",
    "# process dic    \n",
    "internet_slang = [x.split() for x in internet_slang]\n",
    "internet_slang = {line[0]: ' '.join(line[1:]) for line in internet_slang}\n",
    "\n",
    "# loading foreign_word dic\n",
    "with open('../dics/ES_dict') as f:\n",
    "    foreign_word = f.readlines()\n",
    "# process dic    \n",
    "foreign_word = [x.split() for x in foreign_word]\n",
    "foreign_word = [line for line in foreign_word if len(line) > 1] # selecting valid lines\n",
    "foreign_word = {line[0]: ' '.join(line[1:]) for line in foreign_word}"
   ]
  },
  {
   "cell_type": "markdown",
   "metadata": {},
   "source": [
    "### Defining functions"
   ]
  },
  {
   "cell_type": "code",
   "execution_count": null,
   "metadata": {},
   "outputs": [],
   "source": [
    "# Lexical normalization\n",
    "def lexical_normalization(text):\n",
    "    for k, v in abbreviation.items():\n",
    "        text = str(text).replace(k,v)        \n",
    "    for k, v in internet_slang.items():\n",
    "        text = str(text).replace(k,v)        \n",
    "    for k, v in foreign_word.items():\n",
    "        text = str(text).replace(k,v)\n",
    "    return text\n",
    "\n",
    "# function for processing text\n",
    "def process_sentences(text):\n",
    "    stop_words = stopwords.words('portuguese') # load stop words\n",
    "    text = text.split() # split sentences by words\n",
    "    text = [word for word in text if word not in stop_words] # Remove stopwords\n",
    "    return \" \".join(text)"
   ]
  },
  {
   "cell_type": "markdown",
   "metadata": {},
   "source": [
    "### Loading embeddings"
   ]
  },
  {
   "cell_type": "code",
   "execution_count": null,
   "metadata": {},
   "outputs": [],
   "source": [
    "w2v =  KeyedVectors.load_word2vec_format('../embeddings/news_vectors.bin', binary=False)"
   ]
  },
  {
   "cell_type": "markdown",
   "metadata": {},
   "source": [
    "### Compute alignment"
   ]
  },
  {
   "cell_type": "code",
   "execution_count": null,
   "metadata": {},
   "outputs": [],
   "source": [
    "# init client mongo\n",
    "client = MongoClient(HOST_IP, 27017)\n",
    "# select db\n",
    "db = client['news_2018']\n",
    "# define colelctions\n",
    "collections = ['oantagonista', 'oglobo', 'veja']\n",
    "\n",
    "for collection in collections:\n",
    "    len_collection = db[collection].count_documents({})\n",
    "    index = 0\n",
    "    for article in db[collection].find({}, no_cursor_timeout=True).batch_size(5):\n",
    "        # Processing text\n",
    "        article_text = process_sentences(article['text']) \n",
    "        \n",
    "        count_comment = 1\n",
    "        \n",
    "        for comment in db[collection + 'Comments'].find({'id_article': article['url']}, no_cursor_timeout=True).sort('date').batch_size(5):\n",
    "          \n",
    "            # Processing comment text\n",
    "            comment_text = process_sentences(lexical_normalization(comment['text']))\n",
    "            \n",
    "            # Insert alignment in database\n",
    "            db['alignmentNewsComments'].insert_one({\n",
    "                'article': article['url'],\n",
    "                'number_comment': count_comment,\n",
    "                'alignment': w2v.wmdistance(article_text, comment_text)\n",
    "            })\n",
    "                \n",
    "            count_comment += 1\n",
    "            \n",
    "        # print status\n",
    "        index += 1\n",
    "        print('Portal: {0} - Progress: {1:.4f} %'.format(collection, index / len_collection * 100), end='\\r')  "
   ]
  }
 ],
 "metadata": {
  "kernelspec": {
   "display_name": "Python 3",
   "language": "python",
   "name": "python3"
  },
  "language_info": {
   "codemirror_mode": {
    "name": "ipython",
    "version": 3
   },
   "file_extension": ".py",
   "mimetype": "text/x-python",
   "name": "python",
   "nbconvert_exporter": "python",
   "pygments_lexer": "ipython3",
   "version": "3.6.9"
  }
 },
 "nbformat": 4,
 "nbformat_minor": 4
}
