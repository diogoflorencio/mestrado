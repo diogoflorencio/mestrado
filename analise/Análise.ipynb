{
 "cells": [
  {
   "cell_type": "markdown",
   "metadata": {},
   "source": [
    "# Word Embeddings notícias de 2018\n",
    "\n",
    "Os dados são notícias de 2018, coletadas dos principais jornais do Brasil:\n",
    "* `Carta Capital`, \n",
    "* `Estadao`, \n",
    "* `Folha de São Paulo`, \n",
    "* `O Antagonista`, \n",
    "* `O Globo`, \n",
    "* `Veja`\n",
    "\n",
    "Uma análise detalhada dos dados está disponível [aqui](https://pages.github.com/). Objetivo deste notebook é utilizar o modelo word2vec para gerar embeddings a partir dos textos dessas notícias. A arquitetura utilizada pelo modelo é a skip-gram, cada palavra é representada por um vetor de 300 dimensões."
   ]
  },
  {
   "cell_type": "code",
   "execution_count": 21,
   "metadata": {},
   "outputs": [],
   "source": [
    "from pymongo import MongoClient\n",
    "import re\n",
    "import datetime\n",
    "import matplotlib.pyplot as plt\n",
    "from scipy.stats import pearsonr\n",
    "import numpy as np"
   ]
  },
  {
   "cell_type": "code",
   "execution_count": 22,
   "metadata": {},
   "outputs": [],
   "source": [
    "PONTUACAO = u'[^a-zA-Z0-9áéíóúÁÉÍÓÚâêîôÂÊÎÔãõÃÕçÇ%] '\n",
    "client = MongoClient('localhost', 27017)\n",
    "db = client.news"
   ]
  },
  {
   "cell_type": "code",
   "execution_count": 23,
   "metadata": {},
   "outputs": [],
   "source": [
    "def init_dic():\n",
    "    dictionary = {\"politica\":0, \"economia\":0, \"brasil\":0, \"internacional\":0, \"esporte\":0, \"opiniao\":0, \"outros\":0}\n",
    "    return dictionary"
   ]
  },
  {
   "cell_type": "code",
   "execution_count": 42,
   "metadata": {},
   "outputs": [],
   "source": [
    "def plot_news(collection):    \n",
    "    dist_article_year = init_dic()\n",
    "    \n",
    "    for article in db[collection].find():\n",
    "        dist_article_year[datetime.datetime.fromtimestamp(int(article['date'])).strftime('%Y')] +=1\n",
    "    \n",
    "    #plot articles\n",
    "    plt.figure(figsize=(13, 4))\n",
    "    plt.figure().suptitle(\"{0} articles\".format(collection))\n",
    "    plt.bar(range(len(dist_article_year)), list(dist_article_year.values()), align='center')\n",
    "    plt.xticks(range(len(dist_article_year)), list(dist_article_year.keys()))\n",
    "    plt.show()"
   ]
  },
  {
   "cell_type": "code",
   "execution_count": 43,
   "metadata": {},
   "outputs": [
    {
     "name": "stdout",
     "output_type": "stream",
     "text": [
      "carta_capital <method 'values' of 'dict' objects>\n"
     ]
    }
   ],
   "source": [
    "plot_news('carta_capital')\n",
    "# plot_news('estadao')\n",
    "# plot_news('folha')\n",
    "# plot_news('oantagonista')\n",
    "# plot_news('oglobo')\n",
    "# plot_news('veja')"
   ]
  },
  {
   "cell_type": "code",
   "execution_count": 47,
   "metadata": {},
   "outputs": [
    {
     "name": "stdout",
     "output_type": "stream",
     "text": [
      "Tecnologiaento 50 anos\r"
     ]
    }
   ],
   "source": [
    "for article in db['veja'].find():\n",
    "    print(article['section'], end='\\r')"
   ]
  }
 ],
 "metadata": {
  "kernelspec": {
   "display_name": "Python 3",
   "language": "python",
   "name": "python3"
  },
  "language_info": {
   "codemirror_mode": {
    "name": "ipython",
    "version": 3
   },
   "file_extension": ".py",
   "mimetype": "text/x-python",
   "name": "python",
   "nbconvert_exporter": "python",
   "pygments_lexer": "ipython3",
   "version": "3.7.3"
  }
 },
 "nbformat": 4,
 "nbformat_minor": 2
}
